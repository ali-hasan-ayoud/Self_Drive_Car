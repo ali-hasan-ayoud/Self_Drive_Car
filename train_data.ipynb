{
 "cells": [
  {
   "cell_type": "code",
   "execution_count": 1,
   "metadata": {},
   "outputs": [],
   "source": [
    "import numpy as np\n",
    "import cv2\n",
    "import time\n",
    "import os\n",
    "import pandas as pd\n",
    "from tqdm import tqdm\n",
    "from collections import deque\n",
    "from random import shuffle"
   ]
  },
  {
   "cell_type": "code",
   "execution_count": 2,
   "metadata": {
    "scrolled": true
   },
   "outputs": [
    {
     "name": "stdout",
     "output_type": "stream",
     "text": [
      "WARNING:tensorflow:From C:\\Users\\Ali\\anaconda3\\lib\\site-packages\\tensorflow\\python\\compat\\v2_compat.py:96: disable_resource_variables (from tensorflow.python.ops.variable_scope) is deprecated and will be removed in a future version.\n",
      "Instructions for updating:\n",
      "non-resource variables are not supported in the long term\n",
      "curses is not supported on this machine (please install/reinstall curses for an optimal experience)\n"
     ]
    }
   ],
   "source": [
    "import tflearn\n",
    "from tflearn.layers.conv import conv_2d, max_pool_2d,avg_pool_2d, conv_3d, max_pool_3d, avg_pool_3d\n",
    "from tflearn.layers.core import input_data, dropout, fully_connected\n",
    "from tflearn.layers.estimator import regression\n",
    "from tflearn.layers.normalization import local_response_normalization\n",
    "from tflearn.layers.merge_ops import merge\n",
    "\n",
    "def alexnet(width, height, lr, output=9):\n",
    "    network = input_data(shape=[None, width, height, 1], name='input')\n",
    "    network = conv_2d(network, 96, 11, strides=4, activation='relu')\n",
    "    network = max_pool_2d(network, 3, strides=2)\n",
    "    network = local_response_normalization(network)\n",
    "    network = conv_2d(network, 256, 5, activation='relu')\n",
    "    network = max_pool_2d(network, 3, strides=2)\n",
    "    network = local_response_normalization(network)\n",
    "    network = conv_2d(network, 384, 3, activation='relu')\n",
    "    network = conv_2d(network, 384, 3, activation='relu')\n",
    "    network = conv_2d(network, 256, 3, activation='relu')\n",
    "    network = max_pool_2d(network, 3, strides=2)\n",
    "    network = local_response_normalization(network)\n",
    "    network = fully_connected(network, 4096, activation='tanh')\n",
    "    network = dropout(network, 0.5)\n",
    "    network = fully_connected(network, 4096, activation='tanh')\n",
    "    network = dropout(network, 0.5)\n",
    "    network = fully_connected(network, output, activation='softmax')\n",
    "    network = regression(network, optimizer='momentum',\n",
    "                         loss='categorical_crossentropy',\n",
    "                         learning_rate=lr, name='targets')\n",
    "\n",
    "    model = tflearn.DNN(network,max_checkpoints=1, tensorboard_verbose=0, tensorboard_dir='log')\n",
    "\n",
    "    return model"
   ]
  },
  {
   "cell_type": "code",
   "execution_count": 3,
   "metadata": {},
   "outputs": [
    {
     "name": "stdout",
     "output_type": "stream",
     "text": [
      "Training Step: 1830  | total loss: \u001b[1m\u001b[32m0.62277\u001b[0m\u001b[0m | time: 62817.105s\n",
      "| Momentum | epoch: 001 | loss: 0.62277 - acc: 0.8576 -- iter: 117120/117144\n",
      "Training Step: 1831  | total loss: \u001b[1m\u001b[32m0.61917\u001b[0m\u001b[0m | time: 63139.943s\n",
      "| Momentum | epoch: 001 | loss: 0.61917 - acc: 0.8578 | val_loss: 2.21862 - val_acc: 0.5840 -- iter: 117144/117144\n",
      "--\n"
     ]
    }
   ],
   "source": [
    "import numpy as np\n",
    "from random import shuffle\n",
    "\n",
    "WIDTH = 160\n",
    "HEIGHT = 120\n",
    "LR = 1e-3\n",
    "EPOCHS = 10\n",
    "MODEL_NAME = 'pygtaSA-car-fast-{}-{}-{}-epochs-120k-data.model'.format(LR, 'alexnet',EPOCHS)\n",
    "\n",
    "model = alexnet(WIDTH, HEIGHT, LR)\n",
    "\n",
    "hm_data = 22\n",
    "train_data = np.load('test.npy',allow_pickle=True)\n",
    "shuffle(train_data)\n",
    "\n",
    "train = train_data[:-2000]\n",
    "test = train_data[-2000:]\n",
    "\n",
    "X = np.array([i[0] for i in train]).reshape(-1,WIDTH,HEIGHT,1)\n",
    "Y = [i[1] for i in train]\n",
    "\n",
    "\n",
    "\n",
    "test_x = np.array([i[0] for i in test]).reshape(-1,WIDTH,HEIGHT,1)\n",
    "test_y = [i[1] for i in test]\n",
    "\n",
    "\n",
    "\n",
    "model.fit({'input': X}, {'targets': Y}, n_epoch=1, validation_set=({'input': test_x}, {'targets': test_y}), \n",
    "    snapshot_step=500, show_metric=True, run_id=MODEL_NAME)\n",
    "\n",
    "model.save(MODEL_NAME)"
   ]
  },
  {
   "cell_type": "code",
   "execution_count": null,
   "metadata": {},
   "outputs": [],
   "source": []
  }
 ],
 "metadata": {
  "kernelspec": {
   "display_name": "Python 3",
   "language": "python",
   "name": "python3"
  },
  "language_info": {
   "codemirror_mode": {
    "name": "ipython",
    "version": 3
   },
   "file_extension": ".py",
   "mimetype": "text/x-python",
   "name": "python",
   "nbconvert_exporter": "python",
   "pygments_lexer": "ipython3",
   "version": "3.8.3"
  }
 },
 "nbformat": 4,
 "nbformat_minor": 4
}
