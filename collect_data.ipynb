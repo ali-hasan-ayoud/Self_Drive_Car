{
 "cells": [
  {
   "cell_type": "code",
   "execution_count": 1,
   "metadata": {},
   "outputs": [],
   "source": [
    "import numpy as np\n",
    "from ipynb.fs.full. directx_keypresses import PressKey,ReleaseKey,W,A,S,D\n",
    "from PIL import ImageGrab\n",
    "import cv2 \n",
    "import time\n",
    "from ipynb.fs.full. getkeys import key_check\n",
    "import os"
   ]
  },
  {
   "cell_type": "code",
   "execution_count": 2,
   "metadata": {},
   "outputs": [],
   "source": [
    "w = [1,0,0,0,0,0,0,0,0]\n",
    "s = [0,1,0,0,0,0,0,0,0]\n",
    "a = [0,0,1,0,0,0,0,0,0]\n",
    "d = [0,0,0,1,0,0,0,0,0]\n",
    "wa = [0,0,0,0,1,0,0,0,0]\n",
    "wd = [0,0,0,0,0,1,0,0,0]\n",
    "sa = [0,0,0,0,0,0,1,0,0]\n",
    "sd = [0,0,0,0,0,0,0,1,0]\n",
    "nk = [0,0,0,0,0,0,0,0,1]\n",
    "\n",
    "\n",
    "\n",
    "def keys_to_output(keys):\n",
    "    \n",
    "    output = [0,0,0,0,0,0,0,0,0]\n",
    "\n",
    "    if 'W' in keys and 'A' in keys:\n",
    "        output = wa\n",
    "    elif 'W' in keys and 'D' in keys:\n",
    "        output = wd\n",
    "    elif 'S' in keys and 'A' in keys:\n",
    "        output = sa\n",
    "    elif 'S' in keys and 'D' in keys:\n",
    "        output = sd\n",
    "    elif 'W' in keys:\n",
    "        output = w\n",
    "    elif 'S' in keys:\n",
    "        output = s\n",
    "    elif 'A' in keys:\n",
    "        output = a\n",
    "    elif 'D' in keys:\n",
    "        output = d\n",
    "    else:\n",
    "        output = nk\n",
    "    return output"
   ]
  },
  {
   "cell_type": "code",
   "execution_count": 3,
   "metadata": {},
   "outputs": [
    {
     "name": "stdout",
     "output_type": "stream",
     "text": [
      "File does not exist, starting fresh!\n",
      "1\n",
      "2\n",
      "3\n",
      "4\n",
      "5\n",
      "6\n",
      "100\n"
     ]
    },
    {
     "name": "stderr",
     "output_type": "stream",
     "text": [
      "C:\\Users\\Ali\\anaconda3\\lib\\site-packages\\numpy\\lib\\npyio.py:501: VisibleDeprecationWarning: Creating an ndarray from ragged nested sequences (which is a list-or-tuple of lists-or-tuples-or ndarrays with different lengths or shapes) is deprecated. If you meant to do this, you must specify 'dtype=object' when creating the ndarray.\n",
      "  arr = np.asanyarray(arr)\n"
     ]
    },
    {
     "name": "stdout",
     "output_type": "stream",
     "text": [
      "200\n",
      "300\n"
     ]
    },
    {
     "ename": "KeyboardInterrupt",
     "evalue": "",
     "output_type": "error",
     "traceback": [
      "\u001b[1;31m---------------------------------------------------------------------------\u001b[0m",
      "\u001b[1;31mKeyboardInterrupt\u001b[0m                         Traceback (most recent call last)",
      "\u001b[1;32m<ipython-input-3-97c5cb63b557>\u001b[0m in \u001b[0;36m<module>\u001b[1;34m\u001b[0m\n\u001b[0;32m     45\u001b[0m \u001b[1;33m\u001b[0m\u001b[0m\n\u001b[0;32m     46\u001b[0m \u001b[1;33m\u001b[0m\u001b[0m\n\u001b[1;32m---> 47\u001b[1;33m \u001b[0mmain\u001b[0m\u001b[1;33m(\u001b[0m\u001b[1;33m)\u001b[0m\u001b[1;33m\u001b[0m\u001b[1;33m\u001b[0m\u001b[0m\n\u001b[0m",
      "\u001b[1;32m<ipython-input-3-97c5cb63b557>\u001b[0m in \u001b[0;36mmain\u001b[1;34m()\u001b[0m\n\u001b[0;32m     20\u001b[0m         \u001b[1;32mif\u001b[0m \u001b[1;32mnot\u001b[0m \u001b[0mpaused\u001b[0m\u001b[1;33m:\u001b[0m\u001b[1;33m\u001b[0m\u001b[1;33m\u001b[0m\u001b[0m\n\u001b[0;32m     21\u001b[0m \u001b[1;33m\u001b[0m\u001b[0m\n\u001b[1;32m---> 22\u001b[1;33m             \u001b[0mscreen\u001b[0m \u001b[1;33m=\u001b[0m \u001b[0mnp\u001b[0m\u001b[1;33m.\u001b[0m\u001b[0marray\u001b[0m\u001b[1;33m(\u001b[0m\u001b[0mImageGrab\u001b[0m\u001b[1;33m.\u001b[0m\u001b[0mgrab\u001b[0m\u001b[1;33m(\u001b[0m\u001b[0mbbox\u001b[0m\u001b[1;33m=\u001b[0m\u001b[1;33m(\u001b[0m\u001b[1;36m5\u001b[0m\u001b[1;33m,\u001b[0m\u001b[1;36m50\u001b[0m\u001b[1;33m,\u001b[0m\u001b[1;36m480\u001b[0m\u001b[1;33m,\u001b[0m\u001b[1;36m360\u001b[0m\u001b[1;33m)\u001b[0m\u001b[1;33m)\u001b[0m\u001b[1;33m)\u001b[0m\u001b[1;33m\u001b[0m\u001b[1;33m\u001b[0m\u001b[0m\n\u001b[0m\u001b[0;32m     23\u001b[0m             \u001b[0mlast_time\u001b[0m \u001b[1;33m=\u001b[0m \u001b[0mtime\u001b[0m\u001b[1;33m.\u001b[0m\u001b[0mtime\u001b[0m\u001b[1;33m(\u001b[0m\u001b[1;33m)\u001b[0m\u001b[1;33m\u001b[0m\u001b[1;33m\u001b[0m\u001b[0m\n\u001b[0;32m     24\u001b[0m             \u001b[0mscreen\u001b[0m \u001b[1;33m=\u001b[0m \u001b[0mcv2\u001b[0m\u001b[1;33m.\u001b[0m\u001b[0mcvtColor\u001b[0m\u001b[1;33m(\u001b[0m\u001b[0mscreen\u001b[0m\u001b[1;33m,\u001b[0m \u001b[0mcv2\u001b[0m\u001b[1;33m.\u001b[0m\u001b[0mCOLOR_BGR2GRAY\u001b[0m\u001b[1;33m)\u001b[0m\u001b[1;33m\u001b[0m\u001b[1;33m\u001b[0m\u001b[0m\n",
      "\u001b[1;32m~\\anaconda3\\lib\\site-packages\\PIL\\ImageGrab.py\u001b[0m in \u001b[0;36mgrab\u001b[1;34m(bbox, include_layered_windows, all_screens, xdisplay)\u001b[0m\n\u001b[0;32m     41\u001b[0m             \u001b[1;32mreturn\u001b[0m \u001b[0mim\u001b[0m\u001b[1;33m\u001b[0m\u001b[1;33m\u001b[0m\u001b[0m\n\u001b[0;32m     42\u001b[0m         \u001b[1;32melif\u001b[0m \u001b[0msys\u001b[0m\u001b[1;33m.\u001b[0m\u001b[0mplatform\u001b[0m \u001b[1;33m==\u001b[0m \u001b[1;34m\"win32\"\u001b[0m\u001b[1;33m:\u001b[0m\u001b[1;33m\u001b[0m\u001b[1;33m\u001b[0m\u001b[0m\n\u001b[1;32m---> 43\u001b[1;33m             offset, size, data = Image.core.grabscreen_win32(\n\u001b[0m\u001b[0;32m     44\u001b[0m                 \u001b[0minclude_layered_windows\u001b[0m\u001b[1;33m,\u001b[0m \u001b[0mall_screens\u001b[0m\u001b[1;33m\u001b[0m\u001b[1;33m\u001b[0m\u001b[0m\n\u001b[0;32m     45\u001b[0m             )\n",
      "\u001b[1;31mKeyboardInterrupt\u001b[0m: "
     ]
    }
   ],
   "source": [
    "file_name = 'training_data_final.npy'\n",
    "\n",
    "if os.path.isfile(file_name):\n",
    "    print('File exists, loading previous data!')\n",
    "    training_data = list(np.load(file_name,allow_pickle=True))\n",
    "else:\n",
    "    print('File does not exist, starting fresh!')\n",
    "    training_data = []\n",
    "\n",
    "def main():\n",
    "\n",
    "    for i in range(6):\n",
    "        print(i+1)\n",
    "        time.sleep(1)\n",
    "\n",
    "\n",
    "    paused = False\n",
    "    while(True):\n",
    "\n",
    "        if not paused:\n",
    "          \n",
    "            screen = np.array(ImageGrab.grab(bbox=(5,50,480,360)))\n",
    "            last_time = time.time()\n",
    "            screen = cv2.cvtColor(screen, cv2.COLOR_BGR2GRAY)\n",
    "            screen = cv2.resize(screen, (160,120))\n",
    "            \n",
    "            keys = key_check()\n",
    "            output = keys_to_output(keys)\n",
    "            training_data.append([screen,output])\n",
    "            \n",
    "            if len(training_data) % 100 == 0:\n",
    "                print(len(training_data))\n",
    "                np.save(file_name,training_data)\n",
    "\n",
    "        keys = key_check()\n",
    "        if 'L' in keys:\n",
    "            if paused:\n",
    "                paused = False\n",
    "                print('unpaused!')\n",
    "                time.sleep(1)\n",
    "            else:\n",
    "                print('Pausing!')\n",
    "                paused = True\n",
    "                time.sleep(1)\n",
    "\n",
    "\n",
    "main()"
   ]
  },
  {
   "cell_type": "code",
   "execution_count": null,
   "metadata": {},
   "outputs": [],
   "source": [
    "import numpy as np\n",
    "filename='training_data_final.npy'\n",
    "data=np.load(filename,allow_pickle = True)"
   ]
  },
  {
   "cell_type": "code",
   "execution_count": null,
   "metadata": {},
   "outputs": [],
   "source": [
    "import cv2\n",
    "import numpy as np\n",
    "\n",
    "data1=np.load(\"training_data_final.npy.npy\",allow_pickle=True)\n",
    "for i in data1:\n",
    "    img=i[0]\n",
    "    c=i[1]\n",
    "    print(c)\n",
    "    cv2.imshow('test',img)\n",
    "    if cv2.waitKey(25) & 0xFF==ord('q'):\n",
    "        cv2.destroyAllWindows()\n",
    "        break"
   ]
  },
  {
   "cell_type": "code",
   "execution_count": null,
   "metadata": {},
   "outputs": [],
   "source": []
  },
  {
   "cell_type": "code",
   "execution_count": null,
   "metadata": {},
   "outputs": [],
   "source": []
  }
 ],
 "metadata": {
  "kernelspec": {
   "display_name": "Python 3",
   "language": "python",
   "name": "python3"
  },
  "language_info": {
   "codemirror_mode": {
    "name": "ipython",
    "version": 3
   },
   "file_extension": ".py",
   "mimetype": "text/x-python",
   "name": "python",
   "nbconvert_exporter": "python",
   "pygments_lexer": "ipython3",
   "version": "3.8.3"
  }
 },
 "nbformat": 4,
 "nbformat_minor": 4
}
